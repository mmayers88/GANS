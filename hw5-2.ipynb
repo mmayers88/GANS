{
 "cells": [
  {
   "cell_type": "code",
   "execution_count": 1,
   "outputs": [],
   "source": [
    "import os\n",
    "#import cv2\n",
    "import numpy as np\n",
    "from tqdm import tqdm\n",
    "import seaborn as sns\n",
    "import tensorflow as tf\n",
    "from tensorflow import keras\n",
    "import matplotlib.pyplot as plt\n",
    "from tensorflow.keras import layers\n",
    "from sklearn.decomposition import PCA\n",
    "from tensorflow.keras import models\n",
    "from mpl_toolkits.axes_grid1 import ImageGrid\n",
    "from sklearn.metrics import confusion_matrix ,plot_confusion_matrix\n",
    "from tensorflow.keras.preprocessing.image import ImageDataGenerator"
   ],
   "metadata": {
    "collapsed": false,
    "pycharm": {
     "name": "#%%\n"
    }
   }
  },
  {
   "cell_type": "code",
   "execution_count": 2,
   "outputs": [
    {
     "data": {
      "text/plain": "(60000, 28, 28)"
     },
     "execution_count": 2,
     "metadata": {},
     "output_type": "execute_result"
    }
   ],
   "source": [
    "(train_images, train_labels), (test_images, test_labels) = keras.datasets.fashion_mnist.load_data()\n",
    "class_names = ['T-shirt/top', 'Trouser', 'Pullover', 'Dress', 'Coat',\n",
    "               'Sandal', 'Shirt', 'Sneaker', 'Bag', 'Ankle boot']\n",
    "\n",
    "train_images = (train_images - 127.5) / 127.5\n",
    "test_images = test_images.astype('float32')/255.\n",
    "\n",
    "\n",
    "train_images.shape"
   ],
   "metadata": {
    "collapsed": false,
    "pycharm": {
     "name": "#%%\n"
    }
   }
  },
  {
   "cell_type": "code",
   "execution_count": 3,
   "outputs": [],
   "source": [
    "def display(array1, array2):\n",
    "    \"\"\"\n",
    "    Displays ten random images from each one of the supplied arrays.\n",
    "    \"\"\"\n",
    "\n",
    "    n = 5\n",
    "\n",
    "    indices = np.random.randint(len(array1), size=n)\n",
    "    images1 = array1[indices, :]\n",
    "    images2 = array2[indices, :]\n",
    "\n",
    "    plt.figure(figsize=(20, 4))\n",
    "    for i, (image1, image2) in enumerate(zip(images1, images2)):\n",
    "        ax = plt.subplot(2, n, i + 1)\n",
    "        plt.imshow(image1.reshape(28, 28))\n",
    "        plt.gray()\n",
    "        ax.get_xaxis().set_visible(False)\n",
    "        ax.get_yaxis().set_visible(False)\n",
    "\n",
    "        ax = plt.subplot(2, n, i + 1 + n)\n",
    "        plt.imshow(image2.reshape(28, 28))\n",
    "        plt.gray()\n",
    "        ax.get_xaxis().set_visible(False)\n",
    "        ax.get_yaxis().set_visible(False)\n",
    "\n",
    "    plt.show()"
   ],
   "metadata": {
    "collapsed": false,
    "pycharm": {
     "name": "#%%\n"
    }
   }
  },
  {
   "cell_type": "code",
   "execution_count": 4,
   "outputs": [
    {
     "name": "stdout",
     "output_type": "stream",
     "text": [
      "Model: \"generator\"\n",
      "_________________________________________________________________\n",
      "Layer (type)                 Output Shape              Param #   \n",
      "=================================================================\n",
      "dense (Dense)                (None, 6272)              633472    \n",
      "_________________________________________________________________\n",
      "reshape (Reshape)            (None, 7, 7, 128)         0         \n",
      "_________________________________________________________________\n",
      "conv2d_transpose (Conv2DTran (None, 14, 14, 128)       409728    \n",
      "_________________________________________________________________\n",
      "batch_normalization (BatchNo (None, 14, 14, 128)       512       \n",
      "_________________________________________________________________\n",
      "leaky_re_lu (LeakyReLU)      (None, 14, 14, 128)       0         \n",
      "_________________________________________________________________\n",
      "conv2d_transpose_1 (Conv2DTr (None, 28, 28, 128)       409728    \n",
      "_________________________________________________________________\n",
      "batch_normalization_1 (Batch (None, 28, 28, 128)       512       \n",
      "_________________________________________________________________\n",
      "leaky_re_lu_1 (LeakyReLU)    (None, 28, 28, 128)       0         \n",
      "_________________________________________________________________\n",
      "conv2d (Conv2D)              (None, 28, 28, 1)         3201      \n",
      "=================================================================\n",
      "Total params: 1,457,153\n",
      "Trainable params: 1,456,641\n",
      "Non-trainable params: 512\n",
      "_________________________________________________________________\n"
     ]
    }
   ],
   "source": [
    "generator = keras.Sequential(\n",
    "    [\n",
    "        keras.Input(shape=(100)),\n",
    "        layers.Dense((7*7*128)),\n",
    "        layers.Reshape((7,7,128)),\n",
    "        layers.Conv2DTranspose(128, kernel_size=5, strides=2, padding=\"same\"),\n",
    "        layers.BatchNormalization(),\n",
    "        layers.LeakyReLU(),\n",
    "        #layers.Dropout(0.1),\n",
    "        layers.Conv2DTranspose(128, kernel_size=5, strides=2, padding=\"same\"),\n",
    "        layers.BatchNormalization(),\n",
    "        layers.LeakyReLU(),\n",
    "        #layers.Dropout(0.1),\n",
    "        layers.Conv2D(1, kernel_size=5, padding=\"same\", activation=\"sigmoid\"),\n",
    "        #layers.Reshape((28,28)),\n",
    "    ],\n",
    "    name=\"generator\",\n",
    ")\n",
    "generator.summary()"
   ],
   "metadata": {
    "collapsed": false,
    "pycharm": {
     "name": "#%%\n"
    }
   }
  },
  {
   "cell_type": "code",
   "execution_count": 5,
   "outputs": [
    {
     "name": "stdout",
     "output_type": "stream",
     "text": [
      "Model: \"discriminator\"\n",
      "_________________________________________________________________\n",
      "Layer (type)                 Output Shape              Param #   \n",
      "=================================================================\n",
      "conv2d_transpose_2 (Conv2DTr (None, 56, 56, 128)       3328      \n",
      "_________________________________________________________________\n",
      "batch_normalization_2 (Batch (None, 56, 56, 128)       512       \n",
      "_________________________________________________________________\n",
      "leaky_re_lu_2 (LeakyReLU)    (None, 56, 56, 128)       0         \n",
      "_________________________________________________________________\n",
      "dropout (Dropout)            (None, 56, 56, 128)       0         \n",
      "_________________________________________________________________\n",
      "conv2d_transpose_3 (Conv2DTr (None, 112, 112, 128)     409728    \n",
      "_________________________________________________________________\n",
      "batch_normalization_3 (Batch (None, 112, 112, 128)     512       \n",
      "_________________________________________________________________\n",
      "leaky_re_lu_3 (LeakyReLU)    (None, 112, 112, 128)     0         \n",
      "_________________________________________________________________\n",
      "dropout_1 (Dropout)          (None, 112, 112, 128)     0         \n",
      "_________________________________________________________________\n",
      "flatten (Flatten)            (None, 1605632)           0         \n",
      "_________________________________________________________________\n",
      "dropout_2 (Dropout)          (None, 1605632)           0         \n",
      "_________________________________________________________________\n",
      "dense_1 (Dense)              (None, 1)                 1605633   \n",
      "=================================================================\n",
      "Total params: 2,019,713\n",
      "Trainable params: 2,019,201\n",
      "Non-trainable params: 512\n",
      "_________________________________________________________________\n"
     ]
    }
   ],
   "source": [
    "discriminator = keras.Sequential(\n",
    "    [\n",
    "        keras.Input(shape=(28,28,1)),\n",
    "        layers.Conv2DTranspose(128, kernel_size=5, strides=2, padding=\"same\"),\n",
    "        layers.BatchNormalization(),\n",
    "        layers.LeakyReLU(),\n",
    "        layers.Dropout(0.3),\n",
    "        layers.Conv2DTranspose(128, kernel_size=5, strides=2, padding=\"same\"),\n",
    "        layers.BatchNormalization(),\n",
    "        layers.LeakyReLU(),\n",
    "        layers.Dropout(0.3),\n",
    "        layers.Flatten(),\n",
    "\t    layers.Dropout(0.3),\n",
    "        layers.Dense(1, activation='sigmoid'),\n",
    "    ],\n",
    "    name=\"discriminator\",\n",
    ")\n",
    "discriminator.summary()"
   ],
   "metadata": {
    "collapsed": false,
    "pycharm": {
     "name": "#%%\n"
    }
   }
  },
  {
   "cell_type": "code",
   "execution_count": 6,
   "outputs": [],
   "source": [
    "\n",
    "# connect them\n",
    "GANS = keras.Sequential()\n",
    "# add generator\n",
    "GANS.add(generator)\n",
    "# add the discriminator\n",
    "GANS.add(discriminator)\n",
    "# compile model\n",
    "opt = keras.optimizers.Adam(lr=0.0002, beta_1=0.5)\n",
    "\n",
    "discriminator.compile(loss= 'binary_crossentropy', optimizer = opt, metrics=['accuracy'])\n",
    "\n",
    "GANS.compile(loss= 'binary_crossentropy', optimizer = opt, metrics=['accuracy'])\n",
    "discriminator.trainable = False"
   ],
   "metadata": {
    "collapsed": false,
    "pycharm": {
     "name": "#%%\n"
    }
   }
  },
  {
   "cell_type": "markdown",
   "source": [
    "# Generate MVN and Images from it"
   ],
   "metadata": {
    "collapsed": false
   }
  },
  {
   "cell_type": "code",
   "execution_count": 7,
   "outputs": [],
   "source": [
    "def genMVD(batchSize):\n",
    "    MVN = np.random.randn(1, 100)\n",
    "    for i in range(batchSize-1):\n",
    "        MVN = np.concatenate((MVN,np.random.randn(1,100)),axis=0)\n",
    "    return MVN"
   ],
   "metadata": {
    "collapsed": false,
    "pycharm": {
     "name": "#%%\n"
    }
   }
  },
  {
   "cell_type": "code",
   "execution_count": 8,
   "outputs": [],
   "source": [
    "def makeBatch(batch):\n",
    "    fakeBatch = genMVD(batch)\n",
    "    #print(fakeBatch.shape)\n",
    "    fakeGenImg = generator.predict(fakeBatch)\n",
    "    randReals = np.random.randint(train_images.shape[0], size=batch)\n",
    "    realImg =  train_images[randReals]\n",
    "\n",
    "    #print(realImg.shape,fakeGenImg.shape)\n",
    "    realImg = realImg.reshape(batch, 28, 28,1)\n",
    "    trainingBatch_images = np.concatenate((realImg,fakeGenImg),axis=0)\n",
    "    #print(trainingBatch_images.shape)\n",
    "    trainingBatch_labels =  np.append(np.ones(batch),np.zeros(batch))\n",
    "    relist = np.random.permutation(2*batch)\n",
    "    trainingBatch_images =  trainingBatch_images[relist,:,:]\n",
    "    trainingBatch_labels = trainingBatch_labels[relist]\n",
    "    return trainingBatch_images,trainingBatch_labels"
   ],
   "metadata": {
    "collapsed": false,
    "pycharm": {
     "name": "#%%\n"
    }
   }
  },
  {
   "cell_type": "markdown",
   "source": [
    "# Train Disciminator\n",
    "\n"
   ],
   "metadata": {
    "collapsed": false
   }
  },
  {
   "cell_type": "code",
   "execution_count": 9,
   "outputs": [
    {
     "name": "stderr",
     "output_type": "stream",
     "text": [
      "  0%|          | 0/10 [00:00<?, ?it/s]"
     ]
    },
    {
     "name": "stdout",
     "output_type": "stream",
     "text": [
      "Round:  0\n"
     ]
    },
    {
     "name": "stderr",
     "output_type": "stream",
     "text": [
      "100%|██████████| 10/10 [06:02<00:00, 36.20s/it]\n"
     ]
    }
   ],
   "source": [
    "d_hist = []\n",
    "g_hist = []\n",
    "for j in tqdm(range(100)):\n",
    "    btch = 16\n",
    "    if not j % 10:\n",
    "        print(\"Round: \",j)\n",
    "    discriminator.trainable = True\n",
    "    #for i in tqdm(range(10),desc= \"Disc\"):\n",
    "    for i in range(10):\n",
    "        batchsize = btch\n",
    "        trainBImgs, trainBLabs = makeBatch(batchsize)\n",
    "        history = discriminator.fit(trainBImgs, trainBLabs,\n",
    "                                    batch_size = batchsize,\n",
    "                                    epochs = batchsize,\n",
    "                                    verbose=0)\n",
    "        d_hist.append(list(history.history['loss']))\n",
    "    discriminator.trainable = False\n",
    "    #for i in tqdm(range(10),desc = \"Gen\"):\n",
    "    for i in range(10):\n",
    "        batchsize = btch\n",
    "        trainBImgs= genMVD(batchsize)\n",
    "        history = GANS.fit(trainBImgs, np.ones(batchsize),\n",
    "                                    batch_size = batchsize,\n",
    "                                    epochs = batchsize,\n",
    "                                    verbose=0)\n",
    "        g_hist.append(list(history.history['loss']))\n",
    "\n",
    "g_hist = [item for sublist in g_hist for item in sublist]\n",
    "d_hist = [item for sublist in d_hist for item in sublist]"
   ],
   "metadata": {
    "collapsed": false,
    "pycharm": {
     "name": "#%%\n"
    }
   }
  },
  {
   "cell_type": "code",
   "execution_count": 10,
   "outputs": [
    {
     "data": {
      "text/plain": "<Figure size 432x288 with 1 Axes>",
      "image/png": "[encoded data removed]"
     },
     "metadata": {
      "needs_background": "light"
     },
     "output_type": "display_data"
    }
   ],
   "source": [
    "fig,ax = plt.subplots()\n",
    "ax.plot(d_hist,label=\"Discriminator Loss\")\n",
    "ax.plot(g_hist,label=\"generator Loss\")\n",
    "\n",
    "plt.legend()\n",
    "plt.show()"
   ],
   "metadata": {
    "collapsed": false,
    "pycharm": {
     "name": "#%%\n"
    }
   }
  },
  {
   "cell_type": "code",
   "execution_count": 11,
   "outputs": [
    {
     "data": {
      "text/plain": "<Figure size 1440x288 with 10 Axes>",
      "image/png": "[encoded data removed]"
     },
     "metadata": {
      "needs_background": "light"
     },
     "output_type": "display_data"
    }
   ],
   "source": [
    "fakeBatch = genMVD(10)\n",
    "#print(fakeBatch.shape)\n",
    "pix = generator.predict(fakeBatch)\n",
    "display(pix[:pix.shape[0]//2,:],pix[pix.shape[0]//2:,:])"
   ],
   "metadata": {
    "collapsed": false,
    "pycharm": {
     "name": "#%%\n"
    }
   }
  },
  {
   "cell_type": "code",
   "execution_count": 11,
   "outputs": [],
   "source": [],
   "metadata": {
    "collapsed": false,
    "pycharm": {
     "name": "#%%\n"
    }
   }
  }
 ],
 "metadata": {
  "kernelspec": {
   "name": "python3",
   "language": "python",
   "display_name": "Python 3"
  },
  "language_info": {
   "codemirror_mode": {
    "name": "ipython",
    "version": 2
   },
   "file_extension": ".py",
   "mimetype": "text/x-python",
   "name": "python",
   "nbconvert_exporter": "python",
   "pygments_lexer": "ipython2",
   "version": "2.7.6"
  }
 },
 "nbformat": 4,
 "nbformat_minor": 0
}