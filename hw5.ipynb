{
 "cells": [
  {
   "cell_type": "code",
   "execution_count": 1,
   "metadata": {},
   "outputs": [],
   "source": [
    "import os\n",
    "#import cv2\n",
    "import numpy as np\n",
    "from tqdm import tqdm\n",
    "import seaborn as sns\n",
    "import tensorflow as tf\n",
    "from tensorflow import keras\n",
    "import matplotlib.pyplot as plt\n",
    "from tensorflow.keras import layers\n",
    "from sklearn.decomposition import PCA\n",
    "from tensorflow.keras import models\n",
    "from mpl_toolkits.axes_grid1 import ImageGrid\n",
    "from sklearn.metrics import confusion_matrix ,plot_confusion_matrix\n",
    "from tensorflow.keras.preprocessing.image import ImageDataGenerator"
   ]
  },
  {
   "cell_type": "code",
   "execution_count": 2,
   "metadata": {
    "pycharm": {
     "name": "#%%\n"
    }
   },
   "outputs": [
    {
     "data": {
      "text/plain": [
       "(60000, 28, 28)"
      ]
     },
     "execution_count": 2,
     "metadata": {},
     "output_type": "execute_result"
    }
   ],
   "source": [
    "(train_images, train_labels), (test_images, test_labels) = keras.datasets.fashion_mnist.load_data()\n",
    "class_names = ['T-shirt/top', 'Trouser', 'Pullover', 'Dress', 'Coat',\n",
    "               'Sandal', 'Shirt', 'Sneaker', 'Bag', 'Ankle boot']\n",
    "\n",
    "train_images = (train_images - 127.5) / 127.5\n",
    "test_images = test_images.astype('float32')/255.\n",
    "\n",
    "\n",
    "train_images.shape"
   ]
  },
  {
   "cell_type": "markdown",
   "metadata": {},
   "source": [
    "This function below is just to display the generated images at the end of my training. Though my training didn't go as well as I thought it would I wanted to display my results as per the instructions."
   ]
  },
  {
   "cell_type": "code",
   "execution_count": 3,
   "metadata": {
    "pycharm": {
     "name": "#%%\n"
    }
   },
   "outputs": [],
   "source": [
    "\n",
    "def display(array1, array2):\n",
    "    \"\"\"\n",
    "    Displays ten random images from each one of the supplied arrays.\n",
    "    \"\"\"\n",
    "\n",
    "    n = 5\n",
    "\n",
    "    indices = np.random.randint(len(array1), size=n)\n",
    "    images1 = array1[indices, :]\n",
    "    images2 = array2[indices, :]\n",
    "\n",
    "    plt.figure(figsize=(20, 4))\n",
    "    for i, (image1, image2) in enumerate(zip(images1, images2)):\n",
    "        ax = plt.subplot(2, n, i + 1)\n",
    "        plt.imshow(image1.reshape(28, 28))\n",
    "        plt.gray()\n",
    "        ax.get_xaxis().set_visible(False)\n",
    "        ax.get_yaxis().set_visible(False)\n",
    "\n",
    "        ax = plt.subplot(2, n, i + 1 + n)\n",
    "        plt.imshow(image2.reshape(28, 28))\n",
    "        plt.gray()\n",
    "        ax.get_xaxis().set_visible(False)\n",
    "        ax.get_yaxis().set_visible(False)\n",
    "\n",
    "    plt.show()"
   ]
  },
  {
   "cell_type": "markdown",
   "metadata": {},
   "source": [
    "The generator is a simple shape. It follows the instructions taking in 100 point which feed directly into a dense layer. The following dense layers are 324,576, and 784. I choose these number arbitrarily and they are just a slow accent to the final shap of 784 to make $28 \\times 28$."
   ]
  },
  {
   "cell_type": "code",
   "execution_count": 4,
   "metadata": {
    "pycharm": {
     "name": "#%%\n"
    }
   },
   "outputs": [
    {
     "name": "stdout",
     "output_type": "stream",
     "text": [
      "Model: \"generator\"\n",
      "_________________________________________________________________\n",
      "Layer (type)                 Output Shape              Param #   \n",
      "=================================================================\n",
      "dense (Dense)                (None, 100)               10100     \n",
      "_________________________________________________________________\n",
      "batch_normalization (BatchNo (None, 100)               400       \n",
      "_________________________________________________________________\n",
      "leaky_re_lu (LeakyReLU)      (None, 100)               0         \n",
      "_________________________________________________________________\n",
      "dense_1 (Dense)              (None, 324)               32724     \n",
      "_________________________________________________________________\n",
      "batch_normalization_1 (Batch (None, 324)               1296      \n",
      "_________________________________________________________________\n",
      "leaky_re_lu_1 (LeakyReLU)    (None, 324)               0         \n",
      "_________________________________________________________________\n",
      "dense_2 (Dense)              (None, 324)               105300    \n",
      "_________________________________________________________________\n",
      "batch_normalization_2 (Batch (None, 324)               1296      \n",
      "_________________________________________________________________\n",
      "leaky_re_lu_2 (LeakyReLU)    (None, 324)               0         \n",
      "_________________________________________________________________\n",
      "dense_3 (Dense)              (None, 576)               187200    \n",
      "_________________________________________________________________\n",
      "batch_normalization_3 (Batch (None, 576)               2304      \n",
      "_________________________________________________________________\n",
      "leaky_re_lu_3 (LeakyReLU)    (None, 576)               0         \n",
      "_________________________________________________________________\n",
      "dense_4 (Dense)              (None, 784)               452368    \n",
      "_________________________________________________________________\n",
      "batch_normalization_4 (Batch (None, 784)               3136      \n",
      "_________________________________________________________________\n",
      "leaky_re_lu_4 (LeakyReLU)    (None, 784)               0         \n",
      "_________________________________________________________________\n",
      "reshape (Reshape)            (None, 28, 28, 1)         0         \n",
      "=================================================================\n",
      "Total params: 796,124\n",
      "Trainable params: 791,908\n",
      "Non-trainable params: 4,216\n",
      "_________________________________________________________________\n"
     ]
    }
   ],
   "source": [
    "generator = keras.Sequential(\n",
    "    [\n",
    "        keras.Input(shape=(100)),\n",
    "        layers.Dense(100),\n",
    "         layers.BatchNormalization(),\n",
    "         layers.LeakyReLU(),\n",
    "         layers.Dense(324),\n",
    "         layers.BatchNormalization(),\n",
    "         layers.LeakyReLU(),\n",
    "\n",
    "\n",
    "         layers.Dense(324),\n",
    "         layers.BatchNormalization(),\n",
    "         layers.LeakyReLU(),\n",
    "\n",
    "         layers.Dense(576),\n",
    "         layers.BatchNormalization(),\n",
    "         layers.LeakyReLU(),\n",
    "\n",
    "         layers.Dense(784),\n",
    "         layers.BatchNormalization(),\n",
    "         layers.LeakyReLU(),\n",
    "         layers.Reshape((28,28,1)),\n",
    "    ],\n",
    "    name=\"generator\",\n",
    ")\n",
    "generator.summary()"
   ]
  },
  {
   "cell_type": "markdown",
   "metadata": {},
   "source": [
    "The discriminator is the opposite of the generator. It takes in $28 \\times 28$ and flattens that to 784. The layers increase at the same rate and eventually turn into one activagtion node. I experimented with dropout and a few other things, but what I was doing didn't seem to work."
   ]
  },
  {
   "cell_type": "code",
   "execution_count": 5,
   "metadata": {
    "pycharm": {
     "name": "#%%\n"
    }
   },
   "outputs": [
    {
     "name": "stdout",
     "output_type": "stream",
     "text": [
      "Model: \"discriminator\"\n",
      "_________________________________________________________________\n",
      "Layer (type)                 Output Shape              Param #   \n",
      "=================================================================\n",
      "flatten (Flatten)            (None, 784)               0         \n",
      "_________________________________________________________________\n",
      "dense_5 (Dense)              (None, 784)               615440    \n",
      "_________________________________________________________________\n",
      "batch_normalization_5 (Batch (None, 784)               3136      \n",
      "_________________________________________________________________\n",
      "leaky_re_lu_5 (LeakyReLU)    (None, 784)               0         \n",
      "_________________________________________________________________\n",
      "dense_6 (Dense)              (None, 576)               452160    \n",
      "_________________________________________________________________\n",
      "batch_normalization_6 (Batch (None, 576)               2304      \n",
      "_________________________________________________________________\n",
      "leaky_re_lu_6 (LeakyReLU)    (None, 576)               0         \n",
      "_________________________________________________________________\n",
      "dense_7 (Dense)              (None, 324)               186948    \n",
      "_________________________________________________________________\n",
      "batch_normalization_7 (Batch (None, 324)               1296      \n",
      "_________________________________________________________________\n",
      "leaky_re_lu_7 (LeakyReLU)    (None, 324)               0         \n",
      "_________________________________________________________________\n",
      "dense_8 (Dense)              (None, 100)               32500     \n",
      "_________________________________________________________________\n",
      "batch_normalization_8 (Batch (None, 100)               400       \n",
      "_________________________________________________________________\n",
      "leaky_re_lu_8 (LeakyReLU)    (None, 100)               0         \n",
      "_________________________________________________________________\n",
      "dense_9 (Dense)              (None, 1)                 101       \n",
      "=================================================================\n",
      "Total params: 1,294,285\n",
      "Trainable params: 1,290,717\n",
      "Non-trainable params: 3,568\n",
      "_________________________________________________________________\n"
     ]
    }
   ],
   "source": [
    "discriminator = keras.Sequential(\n",
    "    [\n",
    "        keras.Input(shape=(28,28,1)),\n",
    "        layers.Flatten(),\n",
    "        layers.Dense(784),\n",
    "        layers.BatchNormalization(),\n",
    "        layers.LeakyReLU(),\n",
    "        # layers.Dropout(0.3),\n",
    "\n",
    "        layers.Dense(576),\n",
    "        layers.BatchNormalization(),\n",
    "        layers.LeakyReLU(),\n",
    "\n",
    "        layers.Dense(324),\n",
    "        layers.BatchNormalization(),\n",
    "        layers.LeakyReLU(),\n",
    "\n",
    "        layers.Dense(100),\n",
    "        layers.BatchNormalization(),\n",
    "        layers.LeakyReLU(),\n",
    "\n",
    "        layers.Dense(1)\n",
    "    ],\n",
    "    name=\"discriminator\",\n",
    ")\n",
    "discriminator.summary()"
   ]
  },
  {
   "cell_type": "markdown",
   "metadata": {},
   "source": [
    "I followed the training recommended. I built my GANS by adding my generator first and the discriminator second. I then compiled the discriminator and the GANS separately. Afterwars the discriminator was set to trainable false. I tried this before compilation, and that led to massive errors."
   ]
  },
  {
   "cell_type": "code",
   "execution_count": 6,
   "metadata": {
    "pycharm": {
     "name": "#%%\n"
    }
   },
   "outputs": [],
   "source": [
    "\n",
    "# connect them\n",
    "GANS = keras.Sequential()\n",
    "# add generator\n",
    "GANS.add(generator)\n",
    "# add the discriminator\n",
    "GANS.add(discriminator)\n",
    "# compile model\n",
    "opt = keras.optimizers.Adam(lr=0.0002, beta_1=0.5)\n",
    "\n",
    "discriminator.compile(loss= 'binary_crossentropy', optimizer = opt, metrics=['accuracy'])\n",
    "\n",
    "GANS.compile(loss= 'binary_crossentropy', optimizer = opt, metrics=['accuracy'])\n",
    "discriminator.trainable = False"
   ]
  },
  {
   "cell_type": "markdown",
   "metadata": {},
   "source": [
    "# Generate MVN and Images from it\n",
    "\n",
    "Below are my functions to make my batched data to feed into the generator. It returns the permutated trainging batches as well as the permuted labels."
   ]
  },
  {
   "cell_type": "code",
   "execution_count": 7,
   "metadata": {
    "pycharm": {
     "name": "#%%\n"
    }
   },
   "outputs": [],
   "source": [
    "def genMVD(batchSize):\n",
    "    MVN = np.random.randn(1, 100)\n",
    "    for i in range(batchSize-1):\n",
    "        MVN = np.concatenate((MVN,np.random.randn(1,100)),axis=0)\n",
    "    return MVN"
   ]
  },
  {
   "cell_type": "code",
   "execution_count": 8,
   "metadata": {
    "pycharm": {
     "name": "#%%\n"
    }
   },
   "outputs": [],
   "source": [
    "def makeBatch(batch):\n",
    "    fakeBatch = genMVD(batch)\n",
    "    #print(fakeBatch.shape)\n",
    "    fakeGenImg = generator.predict(fakeBatch)\n",
    "    randReals = np.random.randint(train_images.shape[0], size=batch)\n",
    "    realImg =  train_images[randReals]\n",
    "\n",
    "    #print(realImg.shape,fakeGenImg.shape)\n",
    "    realImg = realImg.reshape(batch, 28, 28,1)\n",
    "    trainingBatch_images = np.concatenate((realImg,fakeGenImg),axis=0)\n",
    "    #print(trainingBatch_images.shape)\n",
    "    trainingBatch_labels =  np.append(np.ones(batch),np.zeros(batch))\n",
    "    relist = np.random.permutation(2*batch)\n",
    "    trainingBatch_images =  trainingBatch_images[relist,:,:]\n",
    "    trainingBatch_labels = trainingBatch_labels[relist]\n",
    "    return trainingBatch_images,trainingBatch_labels"
   ]
  },
  {
   "cell_type": "markdown",
   "metadata": {},
   "source": [
    "# Train Disciminator\n",
    "\n",
    "The algorithm below is what was described in the instructions. The discriminator is trained first from a generated batch of images. After training is complete the discriminator is set to trainable false and the generator is trained by training the entire GANS.\n"
   ]
  },
  {
   "cell_type": "code",
   "execution_count": 9,
   "metadata": {
    "pycharm": {
     "name": "#%%\n"
    }
   },
   "outputs": [
    {
     "name": "stderr",
     "output_type": "stream",
     "text": [
      "100%|████████████████████████████████████████████████████████████████████████████████████████████████████████████████████| 100/100 [12:02<00:00,  7.23s/it]\n"
     ]
    }
   ],
   "source": [
    "EPOCHS = 100\n",
    "\n",
    "d_hist = []\n",
    "g_hist = []\n",
    "for j in tqdm(range(EPOCHS)):\n",
    "    btch = 16\n",
    "    discriminator.trainable = True\n",
    "    #for i in tqdm(range(10),desc= \"Disc\"):\n",
    "    for i in range(10):\n",
    "        batchsize = btch\n",
    "        trainBImgs, trainBLabs = makeBatch(batchsize)\n",
    "        history = discriminator.fit(trainBImgs, trainBLabs,\n",
    "                                    batch_size = batchsize,\n",
    "                                    epochs = batchsize,\n",
    "                                    verbose=0)\n",
    "        d_hist.append(list(history.history['loss']))\n",
    "    discriminator.trainable = False\n",
    "    #for i in tqdm(range(10),desc = \"Gen\"):\n",
    "    for i in range(10):\n",
    "        batchsize = btch\n",
    "        trainBImgs= genMVD(batchsize)\n",
    "        history = GANS.fit(trainBImgs, np.ones(batchsize),\n",
    "                                    batch_size = batchsize,\n",
    "                                    epochs = batchsize,\n",
    "                                    verbose=0)\n",
    "        g_hist.append(list(history.history['loss']))\n",
    "\n",
    "g_hist = [item for sublist in g_hist for item in sublist]\n",
    "d_hist = [item for sublist in d_hist for item in sublist]"
   ]
  },
  {
   "cell_type": "markdown",
   "metadata": {},
   "source": [
    "Below is my loss Plot.though there's some oscillations, the trend is moving downward. And below that the images generated are starting to look like something. They're not great, but are starting to look like some kind of object."
   ]
  },
  {
   "cell_type": "code",
   "execution_count": 10,
   "metadata": {
    "pycharm": {
     "name": "#%%\n"
    }
   },
   "outputs": [
    {
     "data": {
      "image/png": "[encoded data removed]",
      "text/plain": [
       "<Figure size 432x288 with 1 Axes>"
      ]
     },
     "metadata": {
      "needs_background": "light"
     },
     "output_type": "display_data"
    }
   ],
   "source": [
    "fig,ax = plt.subplots()\n",
    "ax.plot(d_hist,label=\"Discriminator Loss\")\n",
    "ax.plot(g_hist,label=\"generator Loss\")\n",
    "\n",
    "plt.legend()\n",
    "plt.show()\n"
   ]
  },
  {
   "cell_type": "code",
   "execution_count": 11,
   "metadata": {
    "pycharm": {
     "name": "#%%\n"
    }
   },
   "outputs": [
    {
     "data": {
      "image/png": "[encoded data removed]",
      "text/plain": [
       "<Figure size 1440x288 with 10 Axes>"
      ]
     },
     "metadata": {
      "needs_background": "light"
     },
     "output_type": "display_data"
    }
   ],
   "source": [
    "fakeBatch = genMVD(10)\n",
    "#print(fakeBatch.shape)\n",
    "pix = generator.predict(fakeBatch)\n",
    "display(pix[:pix.shape[0]//2,:],pix[pix.shape[0]//2:,:])"
   ]
  },
  {
   "cell_type": "markdown",
   "metadata": {
    "pycharm": {
     "name": "#%% md\n"
    }
   },
   "source": [
    "# Next part:\n",
    "   ## CNN GANS\n",
    "   \n",
    "   Next the CNN gans is made. I used a similar method to above, except that I used CNNs. The CNNs were just repeating 128. I wasn't quit sure what to make the size, so I stuck with this. This may or may not have been why my training didn't go well."
   ]
  },
  {
   "cell_type": "code",
   "execution_count": 12,
   "metadata": {
    "pycharm": {
     "name": "#%%\n"
    }
   },
   "outputs": [
    {
     "name": "stdout",
     "output_type": "stream",
     "text": [
      "Model: \"generator\"\n",
      "_________________________________________________________________\n",
      "Layer (type)                 Output Shape              Param #   \n",
      "=================================================================\n",
      "dense_10 (Dense)             (None, 6272)              633472    \n",
      "_________________________________________________________________\n",
      "reshape_1 (Reshape)          (None, 7, 7, 128)         0         \n",
      "_________________________________________________________________\n",
      "conv2d_transpose (Conv2DTran (None, 14, 14, 128)       409728    \n",
      "_________________________________________________________________\n",
      "batch_normalization_9 (Batch (None, 14, 14, 128)       512       \n",
      "_________________________________________________________________\n",
      "leaky_re_lu_9 (LeakyReLU)    (None, 14, 14, 128)       0         \n",
      "_________________________________________________________________\n",
      "conv2d_transpose_1 (Conv2DTr (None, 28, 28, 128)       409728    \n",
      "_________________________________________________________________\n",
      "batch_normalization_10 (Batc (None, 28, 28, 128)       512       \n",
      "_________________________________________________________________\n",
      "leaky_re_lu_10 (LeakyReLU)   (None, 28, 28, 128)       0         \n",
      "_________________________________________________________________\n",
      "conv2d (Conv2D)              (None, 28, 28, 1)         3201      \n",
      "=================================================================\n",
      "Total params: 1,457,153\n",
      "Trainable params: 1,456,641\n",
      "Non-trainable params: 512\n",
      "_________________________________________________________________\n"
     ]
    }
   ],
   "source": [
    "generator = keras.Sequential(\n",
    "    [\n",
    "        keras.Input(shape=(100)),\n",
    "        layers.Dense((7*7*128)),\n",
    "        layers.Reshape((7,7,128)),\n",
    "        layers.Conv2DTranspose(128, kernel_size=5, strides=2, padding=\"same\"),\n",
    "        layers.BatchNormalization(),\n",
    "        layers.LeakyReLU(),\n",
    "        #layers.Dropout(0.1),\n",
    "        layers.Conv2DTranspose(128, kernel_size=5, strides=2, padding=\"same\"),\n",
    "        layers.BatchNormalization(),\n",
    "        layers.LeakyReLU(),\n",
    "        #layers.Dropout(0.1),\n",
    "        layers.Conv2D(1, kernel_size=5, padding=\"same\", activation=\"sigmoid\"),\n",
    "        #layers.Reshape((28,28)),\n",
    "    ],\n",
    "    name=\"generator\",\n",
    ")\n",
    "generator.summary()"
   ]
  },
  {
   "cell_type": "markdown",
   "metadata": {},
   "source": [
    "My discriminator below is just a mirror image of my generator. I again experimented with dropout, although I didn't notice great results."
   ]
  },
  {
   "cell_type": "code",
   "execution_count": 13,
   "metadata": {
    "pycharm": {
     "name": "#%%\n"
    }
   },
   "outputs": [
    {
     "name": "stdout",
     "output_type": "stream",
     "text": [
      "Model: \"discriminator\"\n",
      "_________________________________________________________________\n",
      "Layer (type)                 Output Shape              Param #   \n",
      "=================================================================\n",
      "conv2d_transpose_2 (Conv2DTr (None, 56, 56, 128)       3328      \n",
      "_________________________________________________________________\n",
      "batch_normalization_11 (Batc (None, 56, 56, 128)       512       \n",
      "_________________________________________________________________\n",
      "leaky_re_lu_11 (LeakyReLU)   (None, 56, 56, 128)       0         \n",
      "_________________________________________________________________\n",
      "dropout (Dropout)            (None, 56, 56, 128)       0         \n",
      "_________________________________________________________________\n",
      "conv2d_transpose_3 (Conv2DTr (None, 112, 112, 128)     409728    \n",
      "_________________________________________________________________\n",
      "batch_normalization_12 (Batc (None, 112, 112, 128)     512       \n",
      "_________________________________________________________________\n",
      "leaky_re_lu_12 (LeakyReLU)   (None, 112, 112, 128)     0         \n",
      "_________________________________________________________________\n",
      "dropout_1 (Dropout)          (None, 112, 112, 128)     0         \n",
      "_________________________________________________________________\n",
      "flatten_1 (Flatten)          (None, 1605632)           0         \n",
      "_________________________________________________________________\n",
      "dropout_2 (Dropout)          (None, 1605632)           0         \n",
      "_________________________________________________________________\n",
      "dense_11 (Dense)             (None, 1)                 1605633   \n",
      "=================================================================\n",
      "Total params: 2,019,713\n",
      "Trainable params: 2,019,201\n",
      "Non-trainable params: 512\n",
      "_________________________________________________________________\n"
     ]
    }
   ],
   "source": [
    "discriminator = keras.Sequential(\n",
    "    [\n",
    "        keras.Input(shape=(28,28,1)),\n",
    "        layers.Conv2DTranspose(128, kernel_size=5, strides=2, padding=\"same\"),\n",
    "        layers.BatchNormalization(),\n",
    "        layers.LeakyReLU(),\n",
    "        layers.Dropout(0.3),\n",
    "        layers.Conv2DTranspose(128, kernel_size=5, strides=2, padding=\"same\"),\n",
    "        layers.BatchNormalization(),\n",
    "        layers.LeakyReLU(),\n",
    "        layers.Dropout(0.3),\n",
    "        layers.Flatten(),\n",
    "\t    layers.Dropout(0.3),\n",
    "        layers.Dense(1, activation='sigmoid'),\n",
    "    ],\n",
    "    name=\"discriminator\",\n",
    ")\n",
    "discriminator.summary()"
   ]
  },
  {
   "cell_type": "code",
   "execution_count": 14,
   "metadata": {
    "pycharm": {
     "name": "#%%\n"
    }
   },
   "outputs": [],
   "source": [
    "\n",
    "# connect them\n",
    "GANS = keras.Sequential()\n",
    "# add generator\n",
    "GANS.add(generator)\n",
    "# add the discriminator\n",
    "GANS.add(discriminator)\n",
    "# compile model\n",
    "opt = keras.optimizers.Adam(lr=0.0002, beta_1=0.5)\n",
    "\n",
    "discriminator.compile(loss= 'binary_crossentropy', optimizer = opt, metrics=['accuracy'])\n",
    "\n",
    "GANS.compile(loss= 'binary_crossentropy', optimizer = opt, metrics=['accuracy'])\n",
    "discriminator.trainable = False"
   ]
  },
  {
   "cell_type": "markdown",
   "metadata": {},
   "source": [
    "# Train Disciminator\n",
    "\n",
    "This is one to one the exact same training as before. I changed nothing in this sequence."
   ]
  },
  {
   "cell_type": "code",
   "execution_count": 15,
   "metadata": {
    "pycharm": {
     "name": "#%%\n"
    }
   },
   "outputs": [
    {
     "name": "stderr",
     "output_type": "stream",
     "text": [
      "100%|██████████████████████████████████████████████████████████████████████████████████████████████████████████████████| 100/100 [1:07:55<00:00, 40.75s/it]\n"
     ]
    }
   ],
   "source": [
    "d_hist = []\n",
    "g_hist = []\n",
    "for j in tqdm(range(EPOCHS)):\n",
    "    btch = 16\n",
    "    discriminator.trainable = True\n",
    "    #for i in tqdm(range(10),desc= \"Disc\"):\n",
    "    for i in range(10):\n",
    "        batchsize = btch\n",
    "        trainBImgs, trainBLabs = makeBatch(batchsize)\n",
    "        history = discriminator.fit(trainBImgs, trainBLabs,\n",
    "                                    batch_size = batchsize,\n",
    "                                    epochs = batchsize,\n",
    "                                    verbose=0)\n",
    "        d_hist.append(list(history.history['loss']))\n",
    "    discriminator.trainable = False\n",
    "    #for i in tqdm(range(10),desc = \"Gen\"):\n",
    "    for i in range(10):\n",
    "        batchsize = btch\n",
    "        trainBImgs= genMVD(batchsize)\n",
    "        history = GANS.fit(trainBImgs, np.ones(batchsize),\n",
    "                                    batch_size = batchsize,\n",
    "                                    epochs = batchsize,\n",
    "                                    verbose=0)\n",
    "        g_hist.append(list(history.history['loss']))\n",
    "\n",
    "g_hist = [item for sublist in g_hist for item in sublist]\n",
    "d_hist = [item for sublist in d_hist for item in sublist]"
   ]
  },
  {
   "cell_type": "markdown",
   "metadata": {},
   "source": [
    "The Loss dropped much faster. There were few oscillations. It looks more like there were some kinds of random spikes, but as training went on, those began to decrease in size and frequency. And then below that are my final generated images. I don't know why they didn't come out right. I assume this is most likely from my architecture, but I wasn't sure what else to do."
   ]
  },
  {
   "cell_type": "code",
   "execution_count": 16,
   "metadata": {
    "pycharm": {
     "name": "#%%\n"
    }
   },
   "outputs": [
    {
     "data": {
      "image/png": "[encoded data removed]",
      "text/plain": [
       "<Figure size 432x288 with 1 Axes>"
      ]
     },
     "metadata": {
      "needs_background": "light"
     },
     "output_type": "display_data"
    }
   ],
   "source": [
    "fig,ax = plt.subplots()\n",
    "ax.plot(d_hist,label=\"Discriminator Loss\")\n",
    "ax.plot(g_hist,label=\"generator Loss\")\n",
    "\n",
    "plt.legend()\n",
    "plt.show()"
   ]
  },
  {
   "cell_type": "code",
   "execution_count": 17,
   "metadata": {
    "pycharm": {
     "name": "#%%\n"
    }
   },
   "outputs": [
    {
     "data": {
      "image/png": "[encoded data removed]",
      "text/plain": [
       "<Figure size 1440x288 with 10 Axes>"
      ]
     },
     "metadata": {
      "needs_background": "light"
     },
     "output_type": "display_data"
    }
   ],
   "source": [
    "fakeBatch = genMVD(10)\n",
    "#print(fakeBatch.shape)\n",
    "pix = generator.predict(fakeBatch)\n",
    "display(pix[:pix.shape[0]//2,:],pix[pix.shape[0]//2:,:])\n"
   ]
  }
 ],
 "metadata": {
  "kernelspec": {
   "display_name": "Python 3",
   "language": "python",
   "name": "python3"
  },
  "language_info": {
   "codemirror_mode": {
    "name": "ipython",
    "version": 3
   },
   "file_extension": ".py",
   "mimetype": "text/x-python",
   "name": "python",
   "nbconvert_exporter": "python",
   "pygments_lexer": "ipython3",
   "version": "3.8.8"
  }
 },
 "nbformat": 4,
 "nbformat_minor": 1
}
